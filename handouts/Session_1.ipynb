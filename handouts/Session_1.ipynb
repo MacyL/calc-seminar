{
 "cells": [
  {
   "cell_type": "markdown",
   "metadata": {
    "deletable": true,
    "editable": true
   },
   "source": [
    "# Session 1: General Introduction"
   ]
  },
  {
   "cell_type": "markdown",
   "metadata": {
    "deletable": true,
    "editable": true
   },
   "source": [
    "## 1 Organisational Details"
   ]
  },
  {
   "cell_type": "markdown",
   "metadata": {
    "deletable": true,
    "editable": true
   },
   "source": [
    "## 2 Schedule for the Seminar\n",
    "\n",
    "`#`  | Date       | Topic              | Title                                                     | Content  \n",
    "--- | --- | --- | --- | --- \n",
    "1  | 2018-04-10 | Introduction       | Introduction to Computer-Assisted Language Comparison     | Basic topics: seminar plan, some key concepts      \n",
    "2  | 2018-04-17 | Software    | Getting Started      | Installation instructions for the software that will be needed for the seminar                                                                                                                                 \n",
    "3  | 2018-04-24 | Reference Catalogs | Concepticon                                               | Learn how to link a concept list to Concepticon, how to compare existing concept lists, and the philosophy behind Concepticon                                   \n",
    "4  | 2018-05-01 | **Holiday**            | May Day                                                          |  Enjoy your free time!                                                  \n",
    "5  | 2018-05-08 | Reference Catalogs | Cross-Linguistic Phonetic Transcription Systems (CLTS)    | Learn the basic problems of phonetic transcription, what CLTS offers, how it can be queried, and how it could be used from Python code or the standalone JS app \n",
    "6  | 2018-05-15 | Data Formats       | Cross-Linguistic Data Formats and Beyond                  | Introduce the CLDF philosophy and the basic formats used by LingPy and EDICTOR.                                                                                 \n",
    "7  | 2018-05-22 | Cognate Detection  | Inferring, modeling, and analysing alignments             | Introduce basic algorithms for alignments, how they are modeled in linguistics, and how one can infer them with LingPy or annotate them with EDICTOR            \n",
    "8  | 2018-05-29 | Cognate Detection  | Inferring, modeling, and analysing cognate sets           | Introduce basic algorithms for automatic cognate detection (partial and complete), as well as basic methods for annotating them in EDICTOR                      \n",
    "9  | 2018-06-05 | Sound Change       | Correspondence Pattern inference with LingPy and EDICTOR  | Explain the basic idea behind the new correspondence pattern algorithm                                                                                          \n",
    "10 | 2018-06-12 | Sound Change       | Multi-tiered sequence representation                      | Provide basic ideas of how multi-tiered sequences can be useful, as they are already employed in LingPy, but also beyond that point                             \n",
    "11 | 2018-06-19 | Semantic Shift     | Cross-Linguistic Colexifications                          | Provide basic ideas regarding the inference and the interpretation of cross-linguistic colexifications and partial colexifications                              \n",
    "12 | 2018-06-26 | Language Contact   | Borrowing Detection and Annotatation                      | Provide basic information on the MLN package for borrowing detection, as well as the possibility to find borrowings with stratification analyses (for which no algorithm exists)               \n",
    "13 | 2018-07-03 | Phylogenies        | Using phylogenies in computational historical linguistics | Discuss topics like ancestral state reconstruction and phylogenetic reconstruction                                                                                \n",
    "14 | 2018-07-10 | Final discussion   | Getting ended... | Wrapping up, final questions, and feedback                                                                                                                                                                 \n"
   ]
  },
  {
   "cell_type": "markdown",
   "metadata": {
    "deletable": true,
    "editable": true
   },
   "source": [
    "## Structure of the Sessions\n",
    "\n",
    "The sessions will be structured in a rather free form. Each session is accompanied by a so-called [Jupyter Notebook](http://jupyter.org/). These allow to follow tutorials both by inspecting the static code, but also interactively, provided one has installed the notebook software available from the Jupyter project. Each \"handout\" we provide is in fact a notebook, and it can both be read in form of printed paper or an electronic version of it, or studied interactively. Information on how to install Jupyter notebooks will be provided during the second session of the seminar.\n",
    "\n",
    "We may occasionally, but not necessarily always, start with a theoretical background before looking at the coding examples. Having grasped the tasks at hand theoretically may be quite important. Since we do not yet know to which degree our course members are proficient in the basic topics of historical linguistics, we encourage all members of the seminar to raise questions in case some terminology we use is opaque or unknown to them.\n",
    "\n",
    "We do not give any homework, nor do we plan on providiging too many tasks during the seminar. Instead we encourage all participants to either follow the notebooks directly during the sessions when we introduce them, or to test them at home. We may occasionally ask participants to solve some exercises, but we do not necessarily prepare exercises for all sessions. We encourage all participants to contact us inbetween the different sessions with their individual questions they may have. \n",
    "\n",
    "We offer, in addition, that participants present data-driven projects they are working on during our seminar, where they describe the problems they have to solve, and all participants as well as the seminar leaders try to discuss whether simple solutions can be found with the tools available for us."
   ]
  },
  {
   "cell_type": "markdown",
   "metadata": {
    "deletable": true,
    "editable": true
   },
   "source": []
  },
  {
   "cell_type": "code",
   "execution_count": null,
   "metadata": {
    "collapsed": true,
    "deletable": true,
    "editable": true
   },
   "outputs": [],
   "source": []
  },
  {
   "cell_type": "code",
   "execution_count": null,
   "metadata": {
    "collapsed": true,
    "deletable": true,
    "editable": true
   },
   "outputs": [],
   "source": []
  },
  {
   "cell_type": "code",
   "execution_count": null,
   "metadata": {
    "collapsed": true,
    "deletable": true,
    "editable": true
   },
   "outputs": [],
   "source": []
  }
 ],
 "metadata": {
  "kernelspec": {
   "display_name": "Python 3",
   "language": "python",
   "name": "python3"
  },
  "language_info": {
   "codemirror_mode": {
    "name": "ipython",
    "version": 3
   },
   "file_extension": ".py",
   "mimetype": "text/x-python",
   "name": "python",
   "nbconvert_exporter": "python",
   "pygments_lexer": "ipython3",
   "version": "3.5.2"
  }
 },
 "nbformat": 4,
 "nbformat_minor": 2
}
