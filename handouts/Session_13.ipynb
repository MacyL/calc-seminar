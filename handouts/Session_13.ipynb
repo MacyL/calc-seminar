{
 "cells": [
  {
   "cell_type": "markdown",
   "metadata": {},
   "source": [
    "# Using Phylogenies in Computational Historical Linguistics\n",
    "\n",
    "## Introduction\n",
    "\n",
    "## Inferring Phylogenies\n",
    "\n",
    "## Mapping Characters on Reference Phylogenies\n",
    "\n",
    "+++introduce the major idea of gene tree reconciliation, character mapping, etc. +++"
   ]
  }
 ],
 "metadata": {
  "kernelspec": {
   "display_name": "Python 3",
   "language": "python",
   "name": "python3"
  },
  "language_info": {
   "codemirror_mode": {
    "name": "ipython",
    "version": 3
   },
   "file_extension": ".py",
   "mimetype": "text/x-python",
   "name": "python",
   "nbconvert_exporter": "python",
   "pygments_lexer": "ipython3",
   "version": "3.5.2"
  }
 },
 "nbformat": 4,
 "nbformat_minor": 2
}
