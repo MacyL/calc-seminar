{
 "cells": [
  {
   "cell_type": "markdown",
   "metadata": {},
   "source": [
    "# Borrowing detection and annotation\n",
    "\n",
    "## Introduction\n",
    "\n",
    "In a narrow sense, borrowing refers to the transfer of words from one language into another one:\n",
    "\n",
    "> Narrowly, the transfer of a word from one language into a second language, as a result\n",
    "> of some kind of contact [...] between speakers of the two. (Trask 2000: 44)\n",
    "\n",
    "In a broader sense, however, borrowing can also refer to the transfer of linguistic feattures among languages:\n",
    "\n",
    "> Broadly, the transfer of linguistic features of any kind from one language to another as\n",
    "> a result of contact. (ebd.)\n",
    "\n",
    "In terms of terminology, it is important to keep in mind that the term \"borrowing\" usually refers to a concrete process. Alternatively, one can also use the word \"transfer\", although we find it less frequently in the literature. Borrowing in a narrower sense would then be called \"lexical transfer\", while the general phenomenon is probably best referred to as \"lexical interference\" (following [Weinreich 1953](:bib:Weinreich1953)).\n",
    "\n",
    "If we assume a bilateral sign model, following Saussure, we can distinguish roughly two cases of lexical transfer, namely the ones where it happens direct (*direct transfer*) and those cases, where the transfer is indirect, i.e., not including the form-part of the linguistic sign, but rather its meaning. For simple words, this can be easily visualized, while we have mixed forms if compounds or more complex signs are involved.\n",
    "\n",
    "\n",
    "> The ways in which one vocabulary can interfere with another are various. Given two\n",
    "> languages, A and B, morphemes may be transferred from A into B, or B-morphemes may\n",
    "> be used in new designative functions on the model of A-morphemes with whose content\n",
    "> they are identified; finally, in the case of compound lexical elements, both processes may\n",
    "> be combined. (Weinreich 1953: 47)\n",
    "\n",
    "We can display those processes based on Weinreich's description (pp. 47-62) in the following image:\n",
    "\n",
    "![img](img/s13_weinreich.png)\n",
    "\n",
    "A further important aspect to be mentioned here is that the process of borrowing does not necessarily end with the transfer of a form or a meaning-structure. After the process, the recipient language usually experiences certain follow-up processes, as the lexical space needs to be re-arranged to accommodate the new word form or conceptual construct. As a result, we can find cases such as *confusion*, *disappearance*, and *specialization*:\n",
    "\n",
    "> Except for loanwords with entirely new content, the transfer or reproduction of foreign\n",
    "> words must affect the existing vocabulary in one of three ways: (1) confusion between\n",
    "> the content of the new and old word; (2) disappearance of the old words; (3) survival of\n",
    "> both the new and old word, with a specialisation in content. (ebd.)\n",
    "\n",
    "From the perspective of the transferred form, we can furthermore distinguish additional processes, namely *nativization*, and its counterpart: *hyper-foreignization* (see [Hock and Joseph 1995: 257f](:bib:Hock1995)). While nativization will adapt the pronunciation of foreign words to the recipient language's basic pronunciation, hypoer-foreignization modifies the foreign sound of borrowings to conserve the foreignness of the borrowed word.\n",
    "\n",
    "\n"
   ]
  },
  {
   "cell_type": "markdown",
   "metadata": {},
   "source": [
    "## Traditional Approaches to Borrowing Detection\n",
    "\n",
    "Traditionally, borrowings can be detected using a richer arsenal of different techniques that are rarely formalized and followed up in a straightforward fashion. Among the most important considerations that scholars use as evidence to prove that a word form is borrowed are:\n",
    "\n",
    "1. phonotactic considerations (following the idea that nativization is not an abrupt process, and that borrowed words *sound* different from native words when first introduced to a new language)\n",
    "2. topological considerations (following the idea that a word that is rare in one subgroup but frequent in another one is probably borrowed from the subgroup where it is frequent)\n",
    "3. semantic considerations (following the idea that a word with a specialized meaning range that provides further evidence for being borrowed is judged to be more likely to be borrowed if it represents a restricted or very specialized, e.g., technical, meaning)\n",
    "4. irregular sound correspondences (following the idea that irregular sound correspondences may reflect transfer instead of inheritance in potential cognate words)\n",
    "\n",
    "The last point is currently regarded as the most important pieces of evidence for borrowings. If sound correspnodences between two languages show an unexpected behavior, scholars identify *layers* of borrowing. A simple example for this *stratification* approach is the match of *d* in German and English related words. Usually, we would expect English words to show a *th* if the German words starts with a *d*, but we have a layer of many borrowings in German, where we have *d* in both languages:\n",
    "\n",
    "No. | German | English | Middle High German \n",
    "--- | --- | --- | ---\n",
    "1 | Dach | thatch | dah\n",
    "2 | Daumen | thumb | dūm\n",
    "3 | Degen | thane | degan\n",
    "4 | Ding | thing | ding\n",
    "5 | drei | three | drī\n",
    "6 | Durst | thirst | durst\n",
    "7 | denken | think | denken\n",
    "8 | Dieb | thief | diob\n",
    "9 | dreschen | thresh | dreskan\n",
    "10 | Drossel | throat | drozze\n",
    "11 | Dill | dill | tilli\n",
    "12 | dumm | dumb | tumb\n",
    "13 | Damm | dam | tam\n",
    "14 | Dunst | dunst | tunst\n",
    "15 | Dollar | dollar | -\n",
    "\n",
    "Not all of these are borrowings from English to German, but they can also come from Low German varities. The other methods are less frequently used, at least in the classical literature. The phonotactic method is probably considered to be too shallow in time depth, and the topological considerations suffer from the fact that words can look like borrowings from their distribution in tree topologies although they are not borrowed.\n"
   ]
  },
  {
   "cell_type": "markdown",
   "metadata": {},
   "source": [
    "## Phylogenetic Borrowing Detection\n",
    "\n",
    "This method, which has been described in a couple of papers and implemented as part of LingPy under the name \"MLN method\" ([Nelson-Sathi et al. 2011](:bib:NelsonSathi2011), [List et al. 2014](:bib:List2014f)) takes tree topology as a proxy for the detection of borrowed words. The main idea is that words which show a strange distribution across a given *reference tree* are likely to be borrowed. While this assumption does not hold in all cases, it seems to be useful enough to get at least a rough impression of how much reticulation can be found in a given dataset. \n",
    "\n",
    "As an example, consider the distribution of words for \"mountain\" in German and Romance languages in the following table:\n",
    "\n",
    "![img](img/s13-fig1.png)\n",
    "\n",
    "If we seek to explain this distribution, we can evoke different evolutionary scenarios of how the words corresponding to pattern A developed across the tree, as shown in the next figure (scenarios in B and C):\n",
    "\n",
    "![img](img/s13-fig2.png)\n",
    "\n",
    "If these methods are applied to larger datasets, a phylogenetic tree can be inferred in which edges between nodes are drawn that visualize where the conflicts can be found. Often these edges may coincide with lateral transfer events in language history, but they are at times also simplifying, as we cannot tell the direction, or the concrete donor, as in our case for *mountain*, where the donor could be any of the Romance languages (not only in our sample, but even outside). \n",
    "\n",
    "Nevertheless, networks drawn in this fashion may yield initial interesting insides into the data of a certain dataset.\n",
    "\n",
    "![img](img/s13-fig3.png)\n",
    "\n",
    "In a similar fashion, we can plot the networks to a map, where we can often find much more detailed accounts, and also an easy way to verify if a given \"borrowing event\" makes sense in the light of the data.\n",
    "\n",
    "![img](img/s13-fig4.png)\n",
    "\n",
    "\n"
   ]
  },
  {
   "cell_type": "markdown",
   "metadata": {},
   "source": [
    "## Language-Internal Borrowing Detection\n",
    "\n"
   ]
  },
  {
   "cell_type": "markdown",
   "metadata": {},
   "source": [
    "## Computing MLNs with LingPy\n",
    "\n",
    "In the following, we quickly demonstrate, how MLNs can be computed in LingPy."
   ]
  },
  {
   "cell_type": "code",
   "execution_count": 8,
   "metadata": {
    "collapsed": false
   },
   "outputs": [
    {
     "name": "stderr",
     "output_type": "stream",
     "text": [
      "                                                                         \r"
     ]
    }
   ],
   "source": [
    "from lingpy import *\n",
    "from lingpy.compare.phylogeny import PhyBo\n",
    "\n",
    "phy = PhyBo('../data/S10-BAI.tsv', tree_calc='upgma')\n",
    "phy.analyze()\n",
    "phy.plot_MLN(fileformat='png', filename='img/s13-fig5')\n",
    "\n"
   ]
  },
  {
   "cell_type": "markdown",
   "metadata": {},
   "source": [
    "This code assumes a lot of data being already passed to the algorithm, especially cognate sets and cognate sets.\n",
    "\n",
    "![img](img/s13-fig5.png)"
   ]
  }
 ],
 "metadata": {
  "kernelspec": {
   "display_name": "Python 3",
   "language": "python",
   "name": "python3"
  },
  "language_info": {
   "codemirror_mode": {
    "name": "ipython",
    "version": 3
   },
   "file_extension": ".py",
   "mimetype": "text/x-python",
   "name": "python",
   "nbconvert_exporter": "python",
   "pygments_lexer": "ipython3",
   "version": "3.5.2"
  }
 },
 "nbformat": 4,
 "nbformat_minor": 2
}
