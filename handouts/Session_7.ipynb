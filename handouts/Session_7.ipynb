{
 "cells": [
  {
   "cell_type": "markdown",
   "metadata": {
    "deletable": true,
    "editable": true
   },
   "source": [
    "# Inferring, Modeling, and Analysing Alignments (Johann-Mattis List and Mei-Shin Wu)"
   ]
  },
  {
   "cell_type": "markdown",
   "metadata": {
    "deletable": true,
    "editable": true
   },
   "source": [
    "## 1 Sequence Comparison\n",
    "\n",
    "Sequence comparison refers to techniques by which sequential structures can be compared formally and automatically. In order to understand the basic principles (algorithms and models) underlying sequence comparison in historical linguistics, it is important to develop a general idea of *sequences* first, independent of the specific aspects or implications of sequences in historical linguistics. "
   ]
  },
  {
   "cell_type": "markdown",
   "metadata": {
    "deletable": true,
    "editable": true
   },
   "source": [
    "### 1.1 Sequences\n",
    "\n",
    "Many structures we are dealing with – be it in daily life or in science – can\n",
    "be represented as sequences. The bird songs which awake us in the morning\n",
    "are sequences of sound waves, the movies we watch are sequences of pictures,\n",
    "and the meals we cook are created by a sequence of instructions received from\n",
    "a recipe book.\n",
    "\n",
    "![image](img/s7-sequences.png)\n",
    "\n",
    "When dealing with sequences, we need to keep some general questions in mind, which are crucial for an understanding of sequences. For example, not all sequences are discrete, but many sequences in our real life are continuous. If we pronounce a word, or listen to a piece of music, it is not always straightforward to *segment* the sequence we perceive into distinct units. Instead, we have too deal with continuous entities, and we use the process of *segmentation* as a model-theoretic idealization that facilitates our research. We should however, not forget, that all segmentation is in fact an idealization.\n",
    "\n",
    "Keeping this in mind, we can define sequences as follows:\n",
    "\n",
    "> Given an alphabet (a non-empty finite set, whose elements are\n",
    "> called characters), a sequence is an ordered list of characters drawn from the alphabet. The elements of sequences are called segments. The length of a sequence\n",
    "> is the number of its segments, and the cardinality of a sequence is the number its\n",
    "> unique segments. (cf. [Böckenbauer and Bongartz 2003](:bib:Boeckenbauer2003): 30f)\n"
   ]
  },
  {
   "cell_type": "markdown",
   "metadata": {
    "deletable": true,
    "editable": true
   },
   "source": [
    "### 1.2 Sequence Comparison\n",
    "\n",
    "Comparing sequences may turn out to be a rather simple task. This is especially the case when it is known in advance, which segments of the sequences\n",
    "correspond to each other. Consider, e.g., two strings of colored beads which\n",
    "are of the same length: Comparing these sequences, we simply have to line\n",
    "them up and check whether the same colors appear in the same positions, as\n",
    "illustrated in below figure. It is also very easy to quantify the difference between the two strings by simply counting the number of positions in which\n",
    "both strings differ, which yields 2 for the two strings in the example, since\n",
    "the strings differ in positions three and four. The result of such a count is a \n",
    "distance in the strict mathematical sense, also known as Hamming distance,\n",
    "which was first introduced by R. W. Hamming (1915 – 1998) in a paper from\n",
    "1950 ([Hamming 1950](:bib:Hamming1950)).\n",
    "\n",
    "![image](img/s7-seqcom.png)"
   ]
  },
  {
   "cell_type": "markdown",
   "metadata": {
    "deletable": true,
    "editable": true
   },
   "source": [
    "For a comparison of the structure of sequences, however, the Hamming distance is surely not enough. Instead, we need to change our perspective, accepting that not all sequences have the same length. A very common perspective for the purpose of sequence comparison is the *edit perspective*. According to this perspective, we compare the structure of two sequences by imagining how we could convert one of them in the other. Here, we can define different basic operations, such as\n",
    "\n",
    "* deletion (delete a segment from a given sequence)\n",
    "* insertion (insert a segment into a given sequence)\n",
    "* substitution (replace a segment by another one)\n",
    "* transposition (have to segments change places)\n",
    "* expansion (make *n* out of one segment)\n",
    "* compression (make one out of *n* segments)\n",
    "\n",
    "The following graphic illustrates, how we can convert one sequence into another.\n",
    "\n",
    "![images](img/s7-edit.png)\n",
    "\n",
    "More generally, we can model these operations in form of *correspondences* (matches) between segments. For reasons of simplicity, let's assume that we deal only with the first three edit operations. The following graphic shows, which correspondences relate to them.\n",
    "\n",
    "![images](img/s7-matches.png)\n"
   ]
  },
  {
   "cell_type": "markdown",
   "metadata": {
    "deletable": true,
    "editable": true
   },
   "source": [
    "### 1.3 Alignment Analyses\n",
    "\n",
    "Alignment analyses are the most general way to model sequence differences. We can describe alignment analyses of two sequences in the following way:\n",
    "\n",
    "> An alignment is a matrix with two rows in which two sequences\n",
    "*s* and *t* are ordered in such a way that all proper matches appear in the same\n",
    "column. Empty matches are filled with gap symbols ([Kruskal 1983](:bib:Kruskal1983): 211).\n",
    "\n",
    "With the help of alignment analyses 3 all different kinds of sequences can be\n",
    "compared, regardless of where they occur or what the purpose of the comparison is. Thus, when trying to detect plagiarism in scientific work, alignment\n",
    "analyses can throw light on the differences between the original text and the\n",
    "plagiary (see Example (1) in the figure below). In molecular biology, the alignment of protein and DNA sequences is a very common method and the basis\n",
    "of phylogenetic reconstruction (see Example (2) in below figure), and in type setting programs and search engines, sequence alignments can be used to detect spelling errors (see Example (3)).\n",
    "\n",
    "![img](img/s7-alignments.png)\n",
    "\n",
    "A more general definition of alignment analyses for *n* (as opposed to two) sequences can be given as follows:\n",
    "\n",
    "> An alignment of *n* (*n* > 1) sequences is an *n*-row matrix in which\n",
    "all sequences are aranged in such a way that all matching segments occur in the\n",
    "same column, while empty cells, resulting from empty matches, are filled with\n",
    "gap symbols. The number of columns of an alignment is called its length or its\n",
    "width, and the number of rows is called its height. (cf. [Gusfield 1997](:bib:Gusfield1997): 216)\n"
   ]
  },
  {
   "cell_type": "markdown",
   "metadata": {
    "deletable": true,
    "editable": true
   },
   "source": [
    "## 2 Phonetic Alignments\n",
    "\n",
    "Although alignment analyses are a very general way to compare sequences, they are not\n",
    "frequently being used in historical linguistics. Obviously, historical linguists align words in\n",
    "their heads, because without alignments, we could never identify regular sound correspon-\n",
    "dences, but most of the time, these comparisons are carried out implicitly, and they are\n",
    "rarely visualized. In addition, we often have problems when comparing words, since not all\n",
    "elements in historically related words are necessarily alignable. This is illustrated in the following illustration, where two different alignments are contrasted with each other.\n",
    "\n",
    "![img](img/s7-iexample.png)"
   ]
  },
  {
   "cell_type": "markdown",
   "metadata": {
    "deletable": true,
    "editable": true
   },
   "source": [
    "### 2.1 Types of Sound Change\n",
    "\n",
    "There is a long tradition of classifying specific sound changes into different types in historical linguistics. Unfortunately, the terminology is not very neat, ranging from very specific\n",
    "terms up to very abstract ones. We thus find terms like “rhotacism” ([Trask 2000](:bib:Trask2000): 288), which\n",
    "refers to the change of [s] to [r], but also terms like lenition, which is a type of change “in\n",
    "which a segment becomes less consonant-like than previously” (ebd.: 190). Some terms\n",
    "are furthermore rather “explanative” than “descriptive” because they also denote a reason\n",
    "why a change happens, Thus, assimilation is often not only described as “[a] change in\n",
    "which one sound becomes more similar to another”, but it is instead also emphasized that\n",
    "this happens “through the influence of a neighboring, usually adjacent, sound” ([Campbell\n",
    "und Mixco 2007](:bib:Campbell2007): 16).\n",
    "\n",
    "The following table lists five more or less frequent types of sound change, by simply\n",
    "pointing to the relation between the source and the target, which serves as the sole criterion\n",
    "for the classification:\n",
    "\n",
    "![image](img/s7-types.png)"
   ]
  },
  {
   "cell_type": "markdown",
   "metadata": {
    "deletable": true,
    "editable": true
   },
   "source": [
    "### 2.2 Sound Classes\n",
    "\n",
    "We need to keep in mind that substantial differences between sounds (like between [p] and\n",
    "[b] or [f]) do not necessarily allow us to conclude that the words are not related, as sound\n",
    "change often follows certain general preferences. On the other hand, surface similarity\n",
    "between sounds does not prove anything in historical linguistics, unless we can show that\n",
    "this similarity is also regular (in terms of recurrent sound correspondences). Nevertheless,\n",
    "if we want to find cognate words, or get an idea on how to align two words we have not\n",
    "seen before, it is useful to turn to surface similarities to guide our first analysis. We thus\n",
    "need a heuristics that enables us to search for probably corresponding elements.\n",
    "\n",
    "To account for this, we can make use of the concept of sound classes which was first\n",
    "proposed by [Dolgopolsky (1964)](:bib:Dolgopolsky1964). The basic idea is that sound which often occur in corre-\n",
    "spondence relation across the languages of the world can be divided in classes such that\n",
    "“phonetic correspondences inside a ,type’ are more regular than those between different\n",
    ",types’” (ebd.: 35).\n",
    "\n",
    "![img](img/s7-classes.png)"
   ]
  },
  {
   "cell_type": "markdown",
   "metadata": {
    "deletable": true,
    "editable": true
   },
   "source": [
    "### 2.3 Morphemes and Secondary Structures\n",
    "\n",
    "Words can be segmented into sounds, but they can also be secondarily segmented, for\n",
    "example into syllables or morphemes. The morpheme structure of words plays a crucial\n",
    "role in phonetic alignment, since it governs the way we compare words.\n",
    "\n",
    "The table below gives an example for the differences between a naive primary alignment\n",
    "and an informed secondary alignment While the primary alignment infers a wrong corre-\n",
    "spondence between final [t] and initial [th], the secondary alignment correctly matches\n",
    "only the first morpheme ʐʅ⁵¹ “sun” of the Běijīng word and separates the suffix tʰou¹ “head\n",
    "(suffix)”.\n",
    "\n",
    "![img](img/s7-morphs.png)\n"
   ]
  },
  {
   "cell_type": "markdown",
   "metadata": {
    "deletable": true,
    "editable": true
   },
   "source": [
    "### 2.4 Alignability\n",
    "\n",
    "Not all aspects of language are completely sequential. We also find many hierarchical\n",
    "aspects. Word formation, for example, is often hierarchic, resembling syntax. If we want\n",
    "to compare sound sequences which have an underlying hierarchical structure, a normal\n",
    "alignment can only be used if the underlying structures are similar enough. If this is not the\n",
    "case, an alignment of entire words does not make sense. Instead, we need to identify and\n",
    "annotate those elements which are alignable. A more proper rendering of the structure of\n",
    "words for “sun” for example, can be found here:\n",
    "\n",
    "![img](img/s7-alignables.png)"
   ]
  },
  {
   "cell_type": "markdown",
   "metadata": {
    "deletable": true,
    "editable": true
   },
   "source": [
    "## 3 Computing and Analysing Alignments with LingPy and EDICTOR\n"
   ]
  },
  {
   "cell_type": "markdown",
   "metadata": {
    "deletable": true,
    "editable": true
   },
   "source": [
    "### 3.1 Computing Alignments with LingPy\n",
    "\n",
    "\n",
    "LingPy (Python Library for Historical Linguistics, http:lingpy.org) is a suite of open source Python modules to analyze large scale linguistic data. It provides sequence comparison, distance analyses, computational cognate judgement. visualization, and more. \n",
    "\n",
    "#### 3.1.1 Examples\n",
    "\n",
    "We use the following toy data file (please find ```seminar7_wl_test.tsv``` in data folder)\n",
    "\n",
    "| ID | DOCULECT  | CONCEPT | IPA   |TOKENS     |\n",
    "|----|-----------|---------|-------|-----------|\n",
    "| 1  | Beijing   | ASH     |xuei⁵⁵ |x u e i ⁵⁵ |\n",
    "| 2  | Guangzhou | ASH     |fui⁵³  |f u i ⁵³   |\n",
    "| 3  | Meixian   | ASH     |foi³³  |f o i ³³   |\n",
    "| 4  | Jinuo     | ASH     |a³³mɐ³³|a ³³ m ɐ ³³|\n",
    "| 5  | Lahu      | ASH     |mə³³e³³|m ə ³³ e ³³|\n",
    "\n",
    "\n",
    "In the following, we want to test the behavior of the following functions in LingPy when using parts of our toy data.\n",
    "\n",
    "* edit distance (```edit_dist```): compute the edit distance between two strings\n",
    "* needleman wunsh (```nw_align```): compute a classical alignment between two strings\n",
    "* SCA alignment (```Pairwise```): compute alignments with help of the SCA algorithm ([List 2012](:bib:List2012b))\n",
    "* multiple alignment (```Multiple```): compute multiple alignments with LingPy\n",
    "* aligning data in text-file (```Alignments```): compute multiple alignments from data from a text file\n",
    "\n",
    "Let's first load our data and have a quick look at it (using ```tabulate``` to print nice tables):\n"
   ]
  },
  {
   "cell_type": "code",
   "execution_count": 8,
   "metadata": {
    "collapsed": false
   },
   "outputs": [
    {
     "name": "stdout",
     "output_type": "stream",
     "text": [
      "--  ---------  -------  -------  -----------\n",
      "ID  DOCULECT   CONCEPT  IPA      TOKENS\n",
      "1   Beijing    ASH      xuei⁵⁵   x u e i ⁵⁵\n",
      "2   Guangzhou  ASH      fui⁵³    f u i ⁵³\n",
      "3   Meixian    ASH      foi³³    f o i ³³\n",
      "4   Jinuo      ASH      a³³mɐ³³  a ³³ m ɐ ³³\n",
      "5   Lahu       ASH      mə³³e³³  m ə ³³ e ³³\n",
      "--  ---------  -------  -------  -----------\n"
     ]
    }
   ],
   "source": [
    "from lingpy import *\n",
    "from tabulate import tabulate\n",
    "data = csv2list('../data/S07_toy-data.tsv')\n",
    "print(tabulate(data))"
   ]
  },
  {
   "cell_type": "markdown",
   "metadata": {},
   "source": [
    "Now, let's start aligning the words in different ways. We start from the edit distance, which does internally align the data, but does not report the alignment to us. Instead, it returns the number of edit operations, which are needed in order to convert one string into another."
   ]
  },
  {
   "cell_type": "code",
   "execution_count": null,
   "metadata": {
    "collapsed": true
   },
   "outputs": [],
   "source": []
  },
  {
   "cell_type": "code",
   "execution_count": null,
   "metadata": {
    "collapsed": true
   },
   "outputs": [],
   "source": []
  },
  {
   "cell_type": "markdown",
   "metadata": {},
   "source": [
    "#### 3.1.2 Further Information on LingPy (LingPy without Pain)\n",
    "\n",
    "In case you run into difficulties, there are some resource to guide you. \n",
    "\n",
    "* a new tutorial on LingPy was recently published: https://github.com/lingpy/lingpy-tutorial \n",
    "* we will announce new information on LingPy in our new blog at https://calc.hypotheses.org"
   ]
  },
  {
   "cell_type": "markdown",
   "metadata": {
    "deletable": true,
    "editable": true
   },
   "source": [
    "### 3.2 Analysing and Correcting Alignments with EDICTOR\n",
    "\n",
    "the Etymological DICtionary ediTOR (EDICTOR), a free, interactive, web-based tool designed to aid\n",
    "historical linguists in creating, editing,\n",
    "analysing, and publishing etymological\n",
    "datasets. The EDICTOR offers interactive solutions for important tasks in historical linguistics, including facilitated input\n",
    "and segmentation of phonetic transcriptions, quantitative and qualitative analyses\n",
    "of phonetic and morphological data, enhanced interfaces for cognate class assignment and multiple word alignment, and\n",
    "automated evaluation of regular sound correspondences. As a web-based tool written in JavaScript, the EDICTOR can be\n",
    "used in standard web browsers across all\n",
    "major platforms.\n",
    "\n",
    "#### 3.2.1 Preparing Data\n",
    "\n",
    "Our input file for EDICTOR is the file we also used for the alignments. If you want to prepare data to be used from within EDICTOR. What is important is that the first row of the test file lists the ID of the words, and that there are at least two further columns, one with a CONCEPT and one with a DOCULECT. EDICTOR theoretically accepts other column names, but don't mess with them, as the behavior may be unexpected. What is also needed is a column with TOKENS (segmentized IPA entries) that list the translation for each item. For alignments, we further need a COGID column (we will discuss cognate coding in detail in Session 8), and a (potentially) empty column for the ALIGNMENT. If ALIGNMENT is not yet there in the data, EDICTOR will automatically create it, if you align strings manually.\n",
    "\n",
    "#### 3.2.2 Loading Data into EDICTOR\n",
    "\n",
    "\n",
    "\n",
    "#### 3.2.3 Aligning Data"
   ]
  },
  {
   "cell_type": "code",
   "execution_count": null,
   "metadata": {
    "collapsed": true
   },
   "outputs": [],
   "source": []
  },
  {
   "cell_type": "code",
   "execution_count": null,
   "metadata": {
    "collapsed": true,
    "deletable": true,
    "editable": true
   },
   "outputs": [],
   "source": []
  }
 ],
 "metadata": {
  "kernelspec": {
   "display_name": "Python 3",
   "language": "python",
   "name": "python3"
  },
  "language_info": {
   "codemirror_mode": {
    "name": "ipython",
    "version": 3
   },
   "file_extension": ".py",
   "mimetype": "text/x-python",
   "name": "python",
   "nbconvert_exporter": "python",
   "pygments_lexer": "ipython3",
   "version": "3.5.2"
  }
 },
 "nbformat": 4,
 "nbformat_minor": 2
}
