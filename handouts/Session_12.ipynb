{
 "cells": [
  {
   "cell_type": "markdown",
   "metadata": {},
   "source": [
    "# Cross-linguistic colexifications\n",
    "\n",
    "## 1 Introduction\n",
    "\n",
    "Languages differ in how they label the universe and sometimes these labels clash in interesting and informative ways, such that one word form has multiple meanings. This may result from coincidence, termed *homophony*, whereby multiple meanings for one\n",
    "word form arise accidentally as two word forms come to sound alike, as in French *paix* \"peace\" vs. *pet* \"fart\", which are both pronounced as\n",
    "[pɛ]. In contrast to this are cases of *polysemy*, in which one word form comes to have multiple related senses, as in Russian дерево *dérevo*, which can denote both \"tree\" and \"wood\".\n",
    "\n",
    "Cases of polysemy may be cross-linguistically frequent, in which case an explanation can likely be found in natural factors, be they linked to some aspect of human psychology or cognition, or the inherent structure of the natural environment (e.g. \"rain\" and \"water\", the above example of \"tree\" and \"wood\", or the common colexification of \"moon\" and \"month\"). On the other hand, where a polysemic pattern is relatively rare cross-linguistically, this is likely to point to a historical explanation in common inheritance or contact. For example, many Austronesian and\n",
    "Papuan languages use the same term for both \"fire\", \"firewood\", and \"tree\" in eastern New\n",
    "Guinea and northern Australia. As this pattern is rare world-wide, this hints that there might be some deep connection between these groups across the Torres strait (Schapper et al. 2016). Another case is given by Urban (2010), who notes that the word for \"sun\" can typically be translated as \"eye of the day\" in many Austroasiatic, Tai-Kadai, or Austronesian languages. In spite of the fact that a diachronic development based on a similar equation is attested in Indo-European (e.g. Old Irish *súil*  \"eye\", from the PIE root \\*seh₂l-, thus cognate with Latin sōl \"sun\"; Classical Armenian արեգակն *aregakn*, a compound of *arew* \"sun\" and *akn* \"eye\"), the relative cross-linguistic rarity of this pattern and its prevalence in Southeast Asia suggests an explanation in terms of historical factors.\n",
    "\n",
    "Deciding on a natural or historical explanation (i.e. distinguishing between homophony and polysemy) may be relatively straightforward for small groupings of languages for which detailed etymological and historical\n",
    "knowledge is available, but it becomes increasingly difficult on a larger scale, and impossible where detailed\n",
    "historical information is unknown.  To circumvent this problem, scholars have increasingly begun to use the agnostic\n",
    "cover term *colexification*, where two senses in a given language *colexify* if the\n",
    "language uses the same lexical form for both (Francois 2008). Taking a colexification approach\n",
    "enables scholars to approach questions of lexical semantics from the perspective of the data: \n",
    "if a pattern of colexification of certain meanings in one language is replicated across different languages \n",
    "or linguistic areas, that is indicative (if not diagnostic) of polysemy, rather than homophony\n",
    "(List 2013). However, if frequency is to be used in this way as a proxy to infer polysemy,\n",
    "reliable large-scale cross-linguistic colexification resources are required. \n",
    "\n",
    "A key underpinning of all colexification studies, whether explicitly or implicitly, are\n",
    "*networks*, which play a crucial role in the investigation of cross-linguistic\n",
    "colexification patterns. First, they offer a convenient way to visualize the complexity of recurring\n",
    "semantic associations along with a number of high-quality tools for the interactive exploration of\n",
    "network data (Bastian et al. 2009, Smoot 2011). Second, thanks to recent advances in the empirical study\n",
    "of networks (Newman 2010), many aspects of network structures are well understood, and a\n",
    "multitude of methods and statistics are available (Csárdi and Nepusz 2006, Hagberg 2009), making it easy for\n",
    "scholars to apply them in their research.\n",
    "\n",
    "![example colex graph](img/example_colex_graph.png)\n",
    "\n",
    "Examples for hypothetical cross-linguistic polysemy networks. A shows an unweighted graph. B shows a hypergraph, C represents a network with weighted edges (edge-width representing relative weight), and D shows a network with weighted edges and weighted nodes (node size representing relative node weight)."
   ]
  },
  {
   "cell_type": "markdown",
   "metadata": {},
   "source": [
    "## 2 The Database of Cross-Linguistic Colexifications\n",
    "\n",
    "The promise of a network-based approach to colexification (see List 2013, Mayer 2014) for\n",
    "colexification analyses and Rosvall 2008 for general purpose studies) lead to the\n",
    "publication of the *Database of Cross-Linguistic Colexifications* (CLICS, List 2014f),\n",
    "which provided cross-linguistic colexification patterns for 1280 concepts across 220 language\n",
    "varieties. While this version of the CLICS database was a valuable resource\n",
    "it also had a number of serious shortcomings. In particular, it had little data, including only 220 languages spoken primarily in South America and Eurasia, and what data were available were hard to check, curate and extend. \n",
    "\n",
    "Here, as well as in a paper to published soon, we describe an updated release of CLICS based around a new framework that attempts\n",
    "to solve these problems, while at the same time scaling up the available data, thus facilitating future research into \n",
    "colexifications. The most important points of improvements we see are: \n",
    "\n",
    "* separating data from display, \n",
    "* making exhaustive and principled use of existing *reference catalogs* like\n",
    "  Concepticon (List 2016}, for concepts) and Glottolog (Hammarstroem 2017, for languages) along with\n",
    "  recently proposed standardization efforts for cross-linguistic data (Forkel 2017),  \n",
    "* curating data and code with help of a transparent Application Programming Interface\n",
    "  (API), and \n",
    "* regularly releasing data in release cycles of at least one per year (Haspelmath 2015). \n",
    "\n",
    "In following these design guidelines, we have developed a new database of cross-linguistic\n",
    "colexifications which supersedes the old CLICS database not only in size, both in terms of the number\n",
    "of language varieties and the number of comparative concepts represented, but also with respect to the ease of data curation and the flexibility of the API. \n",
    "\n",
    "Our application allows users to explore the data from various additional\n",
    "perspectives, including geographic maps, the inspection of the data of individual languages, or the\n",
    "distribution of concepts for which we find translations in our data. In addition, each data point\n",
    "can be traced back to its original source, allowing the users to rigorously check whether the\n",
    "automatic findings we present can be confirmed through qualitative research. \n",
    "\n",
    "### 2.1 Colexifications of SAY, WORD, and LANGUAGE\n",
    "\n",
    "Of the 327 communities containing at least two concepts in the data, the largest community consists\n",
    "of 21 nodes, centering around the concept SAY, which has the largest number of links\n",
    "in this subgraph (see the figure below regarding the position of the network in our big graph). This subgraph also contains the\n",
    "link between LANGUAGE and WORD, ranking at position nine in the\n",
    "collection of most frequently recurring links. Those concepts in the\n",
    "figure which are shown in bold font show external links recurring in at least five different\n",
    "language families, clearly suggesting an explanation in terms of natural factors. The concept LANGUAGE further links to the concept \n",
    "MOUTH\n",
    "which is placed in a community with TOOTH as the central concept. \n",
    "Concept SAY itself\n",
    "further links to three different concepts from other communities, namely PROMISE (central\n",
    "concept OATH), CALL BY NAME (central concept\n",
    "SHOUT), and DO OR MAKE (central concept BUILD). When hovering over the concept in the application,\n",
    "a pop-up provides this information, and users can directly open the respective community to which a\n",
    "given concept with external edges links. \n",
    "\n",
    "![Full network](img/full_network.png)\n",
    " \n",
    "Concepts which could equally well be assigned to different communities are quite common in\n",
    "cross-linguistic colexification data. While this may result from using an inappropriate algorithm\n",
    "for community detection that partitions the network into too small sets of nodes, it also reflects\n",
    "the general indeterminacy of concepts which can often be assigned to different domains. According to our\n",
    "automatic analysis, for example, SAY plays a role in four different semantic domains, which\n",
    "could be labelled as *neutral speech*,\n",
    "CONCRETE ACTION (community around DO OR MAKE), PROMISE (community around\n",
    "OATH), and *articulated speech* (community around CALL BY NAME).\n",
    "Unfortunately, our data is not tagged for semantic fields or semantic domains. If it were, we could\n",
    "automatically derive those concepts which are in transitional areas and not easy to assign to only one\n",
    "domain. Much more work will have to be done in the future, both on existing resources such as the\n",
    "Concepticon, and on datasets in CLDF format, as well as our colexification database, in order to exhaust its full potential.\n",
    "\n",
    "![Network say](img/network_say.png)\n",
    "\n",
    "### 2.2 Colexifications of WHEEL and FOOT\n",
    "\n",
    "As a further example, let us consider a case of regional colexification that was already mentioned by\n",
    "Mayer (2014) and can also be found in our new colexification database: the colexification of\n",
    "FOOT and WHEEL in some South-American languages. In contrast to the example of SAY, WORD, and\n",
    "LANGUAGE in the preceding section, this colexification does not reflect a global pattern which could\n",
    "be identified when looking into the partitions based on the Infomap community detection analysis,\n",
    "which places WHEEL and FOOT into distinct communities. An\n",
    "additional view of the colexification data, introduced by Mayer (2014), however, allows one to\n",
    "find areal patterns, provided they are frequent enough and recur across different language families.\n",
    "This view (called *subgraph* by Mayer 2014) presents the subgraph derived from the\n",
    "closest neighbors of a given query concept. Neighbors of the starting concept are identified by\n",
    "setting a frequency threshold. In consecutive steps, more nodes (the neighbors of the neighbors) can\n",
    "be added to the subgraph, depending on the size of the network, which should not exceed a certain\n",
    "number of nodes to allow for convenient inspection. \n",
    " \n",
    "Thus, while the colexification between WHEEL and FOOT does not\n",
    "show up in our community analysis, we find it in the subgraph view, as shown in the figure below. As we can see from the different concrete word forms reflecting the colexification,\n",
    "we are not dealing with a direct borrowing that spread among the languages. Instead, the\n",
    "colexification either reflects an instance of *loan transfer* (in the terminology of\n",
    "Weinreich 1953) or an indirect metaphorical extension. \n",
    "What may substantiate the latter hypothesis is the fact that the\n",
    "WHEEL-FOOT colexification is not restricted to Southern\n",
    "America, but seems to be also reflected in some African languages located on the Eastern coast of\n",
    "Africa (Gilman 1986; Heine 2017). The explanation for this particular colexification can thus be sought in historical factors, as a metaphorical extension linked to the introduction of the wheel as a widespread technology in a colonial context.\n",
    "\n",
    "![Foot wheel](img/footwheel.png)\n",
    "\n",
    "This again has immediate implications for ongoing debates on *linguistic paleography*. First,\n",
    "the WHEEL-FOOT metaphor shows that concrete historical events\n",
    "may be reflected in languages. Second, however, it also shows that we need to be very careful when\n",
    "evaluating this evidence. As we can see from the subgraph above, there are\n",
    "plenty of colexifications for CIRCLE and WHEEL in our data as\n",
    "well (our data counts 25 concrete colexifications across 10 different language families).  Assuming\n",
    "that societies usually have a way to express the concept \"circle\", while \"wheel\" may be\n",
    "missing, our data suggests that the most straightforward strategy to express a new concept \"wheel\"\n",
    "starts from the word for \"circle\". Since this can easily happen independently, as we can again see\n",
    "from our data, these findings might be of importance for on-going debates on the origin of terms for\n",
    "\"wheel\", especially in Indo-European (Hock 2017; Anthony 2015). \n",
    "Further studies on lexical typology, including studies on independently recurring\n",
    "patterns of semantic shift as well as the frequency of loan transfer, are required before this linguistic data can be reliably used to reconstruct ancestral cultures. Our extended colexification data may serve as a starting point for these investigations.\n",
    "\n",
    "### 2.3 Website\n",
    "\n",
    "The new CLICS database can be explored at [http://clics.clld.org/](http://clics.clld.org/)."
   ]
  },
  {
   "cell_type": "markdown",
   "metadata": {},
   "source": [
    "\n",
    "## 3 How to Compute Colexifications in Python\n",
    "\n",
    "In the following, we will briefly look how colexifications in a given dataset can be handled with LingPy and with Python in general. \n",
    "\n",
    "Let us start by loading the module from LingPy along with a wordlist of Bai dialects and compute the most frequent colexifications in this sample."
   ]
  },
  {
   "cell_type": "code",
   "execution_count": 1,
   "metadata": {},
   "outputs": [
    {
     "name": "stderr",
     "output_type": "stream",
     "text": [
      "2018-06-26 10:14:26,066 [INFO] Analyzing taxon Dashi...\n",
      "2018-06-26 10:14:26,069 [INFO] Analyzing taxon Ega...\n",
      "2018-06-26 10:14:26,074 [INFO] Analyzing taxon Enqi...\n",
      "2018-06-26 10:14:26,078 [INFO] Analyzing taxon Gongxing...\n",
      "2018-06-26 10:14:26,082 [INFO] Analyzing taxon Jinman...\n",
      "2018-06-26 10:14:26,086 [INFO] Analyzing taxon Jinxing...\n",
      "2018-06-26 10:14:26,089 [INFO] Analyzing taxon Mazhelong...\n",
      "2018-06-26 10:14:26,092 [INFO] Analyzing taxon Tuolo...\n",
      "2018-06-26 10:14:26,095 [INFO] Analyzing taxon Zhoucheng...\n"
     ]
    },
    {
     "name": "stdout",
     "output_type": "stream",
     "text": [
      "year      \tblood     \t9\n",
      "liver     \tdry       \t8\n",
      "new       \theart     \t7\n",
      "sun       \twarm      \t5\n",
      "stand     \ttree      \t4\n",
      "wind      \tsalt      \t4\n",
      "sleep     \tlie       \t4\n",
      "not       \tone       \t4\n"
     ]
    }
   ],
   "source": [
    "from lingpy import *\n",
    "from lingpy.meaning.colexification import *\n",
    "\n",
    "wl1 = Wordlist('../data/S10-BAI.tsv')\n",
    "G = colexification_network(wl1, output=None, concept='concept', ipa='ipa')\n",
    "for nA, nB, data in sorted(G.edges(data=True), key=lambda x: x[2]['wordWeight'], reverse=True):\n",
    "    if data['wordWeight'] > 3:\n",
    "        print('{0:10}\\t{1:10}\\t{2}'.format(nA, nB, data['wordWeight']))"
   ]
  },
  {
   "cell_type": "markdown",
   "metadata": {},
   "source": [
    "What we can see from this example, is that none of these colexifications seems to reflect the types of semantic associations we find in the CLICS database or other accounts on colexification studies. This is obviously due to the fact that our sample is very small. What is also interesting, however, is that a couple of colexifications reflect what we could interpret as \"genetic markers\" for the group of Bai dialects. The colexification of \"year\" and \"blood\", for example, occurs in all dialects in our sample. It is a clear example of homophony due to phonological merger. \n",
    "\n",
    "At least two of those mergers can also be found in a couple of Chinese dialects, especially \"dry\" and \"liver\", \"heart\" and \"new\" (\"year\" and \"blood\" are similar, compare *suì* 岁 and *xiě* 血, but not identical in Mandarin). But this does not prove that Bai dialects are closely related to Chinese, as other scholars would claim that these cases of colexification are due to recent borrowings in the Bai dialects from Chinese (see [Lee and Sagart 2008](:bib:Lee2008)).\n",
    "\n",
    "So far, the usefulness of colexifications that point to homophones rather than polysemies to infer deep or shallow genetic relationships has not yet sufficiently been investigated. Let us just make a small experiment and check what we find in Polynesian languages, given that we have the data already in our folder:\n"
   ]
  },
  {
   "cell_type": "code",
   "execution_count": 2,
   "metadata": {},
   "outputs": [
    {
     "name": "stderr",
     "output_type": "stream",
     "text": [
      "2018-06-26 10:14:26,224 [INFO] Analyzing taxon Hawaiian...\n",
      "2018-06-26 10:14:26,236 [INFO] Analyzing taxon Mangareva...\n",
      "2018-06-26 10:14:26,251 [INFO] Analyzing taxon Maori...\n",
      "2018-06-26 10:14:26,257 [INFO] Analyzing taxon North_Marquesan...\n",
      "2018-06-26 10:14:26,267 [INFO] Analyzing taxon Rapanui...\n",
      "2018-06-26 10:14:26,275 [INFO] Analyzing taxon Ra’ivavae...\n",
      "2018-06-26 10:14:26,284 [INFO] Analyzing taxon Rurutuan...\n",
      "2018-06-26 10:14:26,294 [INFO] Analyzing taxon Sikaiana...\n",
      "2018-06-26 10:14:26,303 [INFO] Analyzing taxon Tahitian...\n",
      "2018-06-26 10:14:26,309 [INFO] Analyzing taxon Tuamotuan...\n"
     ]
    },
    {
     "name": "stdout",
     "output_type": "stream",
     "text": [
      "Five      \thand      \t6\n",
      "man/male  \thusband   \t6\n",
      "woman/female\twife      \t6\n",
      "earth/soil\tdirty     \t5\n",
      "to kill   \tto hit    \t4\n",
      "leaf      \tOne Hundred\t4\n",
      "to see    \tto know, be knowledgeable\t4\n"
     ]
    }
   ],
   "source": [
    "wl2 = Wordlist('../data/S08_east-polynesian.tsv')\n",
    "G = colexification_network(wl2, output=None, concept='concept', entry='value')\n",
    "for nA, nB, data in sorted(G.edges(data=True), key=lambda x: x[2]['wordWeight'], reverse=True):\n",
    "    if data['wordWeight'] > 3:\n",
    "        print('{0:10}\\t{1:10}\\t{2}'.format(nA, nB, data['wordWeight']))"
   ]
  },
  {
   "cell_type": "markdown",
   "metadata": {},
   "source": [
    "Obviously, we find more instances of polysemies here, although \"One Hundred\" vs. \"Leaf\" are likely to be candidates for homophones. Note that we changed the keyword \"entry\" in this example, since the normal value in unsegmented form, which the algorithm compares for colexifications language-internally, is labelled differently in both datasets (\"ipa\" vs. \"value\").\n",
    "\n",
    "Let us check the Tujia languages in our data-folder to see what we can find there (but we have to lower the threshold, otherwise we don't find any example):"
   ]
  },
  {
   "cell_type": "code",
   "execution_count": 3,
   "metadata": {},
   "outputs": [
    {
     "name": "stderr",
     "output_type": "stream",
     "text": [
      "2018-06-26 10:14:26,411 [INFO] Analyzing taxon Boluo_Tujia...\n",
      "2018-06-26 10:14:26,415 [INFO] Analyzing taxon Dianfang_Tujia...\n",
      "2018-06-26 10:14:26,417 [INFO] Analyzing taxon Duogu_Tujia...\n",
      "2018-06-26 10:14:26,420 [INFO] Analyzing taxon Tanxi_Tujia...\n",
      "2018-06-26 10:14:26,423 [INFO] Analyzing taxon Tasha_Tujia...\n"
     ]
    },
    {
     "name": "stdout",
     "output_type": "stream",
     "text": [
      "louse     \ttooth     \t2\n",
      "eat       \tlong      \t2\n",
      "eat       \tbite      \t2\n",
      "long      \tfar       \t2\n",
      "short     \tnear      \t2\n"
     ]
    }
   ],
   "source": [
    "wl3 = Wordlist('../data/S09-data.tsv')\n",
    "G = colexification_network(wl3, output=None, concept='concept', entry='ipa')\n",
    "for nA, nB, data in sorted(G.edges(data=True), key=lambda x: x[2]['wordWeight'], reverse=True):\n",
    "    if data['wordWeight'] > 1:\n",
    "        print('{0:10}\\t{1:10}\\t{2}'.format(nA, nB, data['wordWeight']))"
   ]
  },
  {
   "cell_type": "markdown",
   "metadata": {},
   "source": [
    "Let us make a small experiment by simply using the colexifications to calculate a distance matrix between the languages. We then calculate the resulting tree retrieved from this distance matrix with the tree retrieved from the comparison of the cognates. For the former we use the `upgma` function of LingPy and a method that computes a distance matrix from colexification data, and for the latter, we just use the `Wordlist.calculate` function that can be applied for all wordlists where there is cognate data. "
   ]
  },
  {
   "cell_type": "code",
   "execution_count": 4,
   "metadata": {},
   "outputs": [
    {
     "name": "stderr",
     "output_type": "stream",
     "text": [
      "2018-06-26 10:14:26,456 [INFO] Analyzing taxon Hawaiian...\n",
      "2018-06-26 10:14:26,465 [INFO] Analyzing taxon Mangareva...\n",
      "2018-06-26 10:14:26,478 [INFO] Analyzing taxon Maori...\n",
      "2018-06-26 10:14:26,483 [INFO] Analyzing taxon North_Marquesan...\n",
      "2018-06-26 10:14:26,491 [INFO] Analyzing taxon Rapanui...\n",
      "2018-06-26 10:14:26,507 [INFO] Analyzing taxon Ra’ivavae...\n",
      "2018-06-26 10:14:26,512 [INFO] Analyzing taxon Rurutuan...\n",
      "2018-06-26 10:14:26,518 [INFO] Analyzing taxon Sikaiana...\n",
      "2018-06-26 10:14:26,523 [INFO] Analyzing taxon Tahitian...\n",
      "2018-06-26 10:14:26,530 [INFO] Analyzing taxon Tuamotuan...\n",
      "2018-06-26 10:14:26,688 [INFO] Successfully calculated tree.\n"
     ]
    },
    {
     "name": "stdout",
     "output_type": "stream",
     "text": [
      "                    /-Sikaiana\n",
      "          /edge.5--|\n",
      "         |         |          /-Maori\n",
      "         |          \\edge.4--|\n",
      "         |                   |          /-Rapanui\n",
      "         |                    \\edge.3--|\n",
      "         |                             |          /-Hawaiian\n",
      "         |                              \\edge.2--|\n",
      "-root----|                                       |          /-Mangareva\n",
      "         |                                        \\edge.1--|\n",
      "         |                                                 |          /-North_Marquesan\n",
      "         |                                                  \\edge.0--|\n",
      "         |                                                            \\-Tuamotuan\n",
      "         |\n",
      "         |          /-Ra’ivavae\n",
      "          \\edge.7--|\n",
      "                   |          /-Rurutuan\n",
      "                    \\edge.6--|\n",
      "                              \\-Tahitian\n",
      "---\n",
      "                    /-North_Marquesan\n",
      "                   |\n",
      "                   |                    /-Rurutuan\n",
      "          /edge.5--|          /edge.2--|\n",
      "         |         |         |         |          /-Tahitian\n",
      "         |         |         |          \\edge.1--|\n",
      "         |         |         |                   |          /-Hawaiian\n",
      "         |          \\edge.4--|                    \\edge.0--|\n",
      "         |                   |                              \\-Ra’ivavae\n",
      "-root----|                   |\n",
      "         |                   |          /-Maori\n",
      "         |                    \\edge.3--|\n",
      "         |                              \\-Tuamotuan\n",
      "         |\n",
      "         |          /-Rapanui\n",
      "          \\edge.7--|\n",
      "                   |          /-Mangareva\n",
      "                    \\edge.6--|\n",
      "                              \\-Sikaiana\n"
     ]
    }
   ],
   "source": [
    "from lingpy import upgma\n",
    "matrix = compare_colexifications(wl2, entry='value')\n",
    "wl2.calculate('tree', ref='cogid')\n",
    "\n",
    "col_tree = upgma(matrix, taxa=wl2.cols)\n",
    "print(wl2.tree.asciiArt())\n",
    "print('---')\n",
    "print(Tree(col_tree).asciiArt())"
   ]
  },
  {
   "cell_type": "markdown",
   "metadata": {},
   "source": [
    "From the differences in the resulting trees, we can easily see that the colexification data does not seem to be very useful for phylogenetic reconstruction.\n",
    "\n",
    "When applying the LingPy function for computing colexifications on large datasets, you should be aware that it may take quite a long time. The reason is that LingPy compares all words against all other words. The current implementation is thus very time-consuming and should be replaced in future versions. A much better way to infer colexifications is to use a Python dictionary as data structure in which the data is consecutively hashed. This will yield a solution that is linear in time (in contrast to exponential, when comparing all words againstt all words). \n",
    "\n",
    "That means, we can retrieve the same information with a much faster function that only iterates once over each word form and adds them to a Python dictionary. If the word form for two concepts is the same, the Python dictionary's values increases, and we can later retrieve all these cases of colexifications:"
   ]
  },
  {
   "cell_type": "code",
   "execution_count": 5,
   "metadata": {},
   "outputs": [
    {
     "name": "stdout",
     "output_type": "stream",
     "text": [
      "year      \tblood     \t9\n",
      "liver     \tdry       \t8\n",
      "new       \theart     \t7\n",
      "sun       \twarm      \t5\n",
      "stand     \ttree      \t4\n",
      "sleep     \tlie       \t4\n",
      "salt      \twind      \t4\n",
      "not       \tone       \t4\n"
     ]
    }
   ],
   "source": [
    "from collections import defaultdict\n",
    "from itertools import combinations\n",
    "import networkx as nx\n",
    "G = nx.Graph()\n",
    "for t in wl1.cols:\n",
    "    colexifications = defaultdict(set)\n",
    "    for idx in wl1.get_list(col=t, flat=True):\n",
    "        colexifications[wl1[idx, 'ipa']].add(wl1[idx, 'concept'])\n",
    "    for key, vals in colexifications.items():\n",
    "        if len(vals) > 1:\n",
    "\n",
    "            for nA, nB in combinations(list(vals), r=2):\n",
    "                try:\n",
    "                    G[nA][nB]['weight'] += 1\n",
    "                except:\n",
    "                    G.add_edge(nA, nB, weight=1)\n",
    "for nA, nB, data in sorted(G.edges(data=True), key=lambda x: x[2]['weight'], reverse=True):\n",
    "    if data['weight'] > 3:\n",
    "        print('{0:10}\\t{1:10}\\t{2}'.format(nA, nB, data['weight']))\n"
   ]
  },
  {
   "cell_type": "markdown",
   "metadata": {},
   "source": [
    "The CLICS database uses this improved colexification code. Since colexifications are not LingPy's primary concern, it is not clear yet, whether we will remove the current functions from the library in further versions, or otherwise make explicit use of the `pyclics` API. "
   ]
  }
 ],
 "metadata": {
  "kernelspec": {
   "display_name": "Python 3",
   "language": "python",
   "name": "python3"
  },
  "language_info": {
   "codemirror_mode": {
    "name": "ipython",
    "version": 3
   },
   "file_extension": ".py",
   "mimetype": "text/x-python",
   "name": "python",
   "nbconvert_exporter": "python",
   "pygments_lexer": "ipython3",
   "version": "3.5.2"
  }
 },
 "nbformat": 4,
 "nbformat_minor": 2
}
