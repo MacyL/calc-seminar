{
 "cells": [
  {
   "cell_type": "markdown",
   "metadata": {},
   "source": [
    "# Using Phylogenies in Computational Historical Linguistics\n",
    "\n",
    "## Introduction\n",
    "\n",
    "## Inferring Phylogenies\n",
    "\n",
    "## Mapping Characters on Reference Phylogenies\n",
    "\n",
    "+++introduce the major idea of gene tree reconciliation, character mapping, etc. +++"
   ]
  },
  {
   "cell_type": "markdown",
   "metadata": {},
   "source": [
    "## Using LingPy for non-Bayesian phylogeny anaylsis\n",
    "\n",
    "This section shows our audience how to do phylogenetic analysis by using LingPy."
   ]
  },
  {
   "cell_type": "code",
   "execution_count": 1,
   "metadata": {},
   "outputs": [
    {
     "name": "stderr",
     "output_type": "stream",
     "text": [
      "2018-07-05 15:46:45,907 [INFO] Successfully calculated tree.\n"
     ]
    },
    {
     "name": "stdout",
     "output_type": "stream",
     "text": [
      "                                        /-Hawaiian\n",
      "                              /edge.1--|\n",
      "                             |         |          /-Mangareva\n",
      "                             |          \\edge.0--|\n",
      "                    /edge.4--|                    \\-North_Marquesan\n",
      "                   |         |\n",
      "                   |         |          /-Rapanui\n",
      "                   |          \\edge.3--|\n",
      "          /edge.5--|                   |          /-Sikaiana\n",
      "         |         |                    \\edge.2--|\n",
      "         |         |                              \\-Tuamotuan\n",
      "-root----|         |\n",
      "         |          \\-Maori\n",
      "         |\n",
      "         |          /-Ra’ivavae\n",
      "          \\edge.7--|\n",
      "                   |          /-Rurutuan\n",
      "                    \\edge.6--|\n",
      "                              \\-Tahitian\n"
     ]
    }
   ],
   "source": [
    "from lingpy import * \n",
    "\n",
    "# import data\n",
    "wl=Wordlist('../data/S08-computed.tsv')\n",
    "\n",
    "# NJ= neighbor, UPGMA= upgma, which one you want to draw is up to you. \n",
    "mytree=Tree(wl.get_tree(tree_calc='neighbor',force=True))\n",
    "print(mytree.asciiArt())\n",
    "\n",
    "# if you want to output the tre file\n",
    "mytree.writeToFile('../data/S14-treeoutput.tre')"
   ]
  },
  {
   "cell_type": "markdown",
   "metadata": {},
   "source": [
    "LingPy can output the distance matrix too."
   ]
  },
  {
   "cell_type": "code",
   "execution_count": 8,
   "metadata": {},
   "outputs": [
    {
     "data": {
      "text/plain": [
       "<bound method Tree.getDistanceToRoot of Tree(\"((((Hawaiian,(Mangareva,'North_Marquesan')),(Rapanui,(Sikaiana,Tuamotuan))),Maori),(Ra’ivavae,(Rurutuan,Tahitian)));\")>"
      ]
     },
     "execution_count": 8,
     "metadata": {},
     "output_type": "execute_result"
    }
   ],
   "source": [
    "wl.calculate(dst, taxa='')"
   ]
  },
  {
   "cell_type": "code",
   "execution_count": null,
   "metadata": {},
   "outputs": [],
   "source": []
  }
 ],
 "metadata": {
  "kernelspec": {
   "display_name": "Python 3",
   "language": "python",
   "name": "python3"
  },
  "language_info": {
   "codemirror_mode": {
    "name": "ipython",
    "version": 3
   },
   "file_extension": ".py",
   "mimetype": "text/x-python",
   "name": "python",
   "nbconvert_exporter": "python",
   "pygments_lexer": "ipython3",
   "version": "3.5.2"
  }
 },
 "nbformat": 4,
 "nbformat_minor": 2
}
