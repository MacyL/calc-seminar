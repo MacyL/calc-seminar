{
 "cells": [
  {
   "cell_type": "markdown",
   "metadata": {},
   "source": [
    "# Using Phylogenies in Computational Historical Linguistics\n",
    "\n",
    "## Introduction\n",
    "\n",
    "## Inferring Phylogenies\n",
    "\n",
    "## Mapping Characters on Reference Phylogenies\n",
    "\n",
    "+++introduce the major idea of gene tree reconciliation, character mapping, etc. +++"
   ]
  },
  {
   "cell_type": "markdown",
   "metadata": {},
   "source": [
    "## Non-Bayesian phylogeny anaylsis via LingPy\n",
    "\n",
    "This section shows our audience how to draw a non-Bayesian phylogeny by using LingPy."
   ]
  },
  {
   "cell_type": "code",
   "execution_count": 1,
   "metadata": {},
   "outputs": [
    {
     "name": "stderr",
     "output_type": "stream",
     "text": [
      "2018-07-09 10:07:28,879 [INFO] Successfully calculated tree.\n",
      "2018-07-09 10:07:28,881 [INFO] Successfully calculated tree.\n"
     ]
    },
    {
     "name": "stdout",
     "output_type": "stream",
     "text": [
      "Neigjbor-joining tree\n",
      "                                        /-Hawaiian\n",
      "                              /edge.1--|\n",
      "                             |         |          /-Mangareva\n",
      "                             |          \\edge.0--|\n",
      "                    /edge.4--|                    \\-North_Marquesan\n",
      "                   |         |\n",
      "                   |         |          /-Rapanui\n",
      "                   |          \\edge.3--|\n",
      "          /edge.5--|                   |          /-Sikaiana\n",
      "         |         |                    \\edge.2--|\n",
      "         |         |                              \\-Tuamotuan\n",
      "-root----|         |\n",
      "         |          \\-Maori\n",
      "         |\n",
      "         |          /-Ra’ivavae\n",
      "          \\edge.7--|\n",
      "                   |          /-Rurutuan\n",
      "                    \\edge.6--|\n",
      "                              \\-Tahitian\n",
      "UPGMA tree\n",
      "                    /-Sikaiana\n",
      "          /edge.5--|\n",
      "         |         |          /-Maori\n",
      "         |          \\edge.4--|\n",
      "         |                   |          /-Rapanui\n",
      "         |                    \\edge.3--|\n",
      "         |                             |          /-Hawaiian\n",
      "         |                              \\edge.2--|\n",
      "-root----|                                       |          /-Mangareva\n",
      "         |                                        \\edge.1--|\n",
      "         |                                                 |          /-North_Marquesan\n",
      "         |                                                  \\edge.0--|\n",
      "         |                                                            \\-Tuamotuan\n",
      "         |\n",
      "         |          /-Ra’ivavae\n",
      "          \\edge.7--|\n",
      "                   |          /-Rurutuan\n",
      "                    \\edge.6--|\n",
      "                              \\-Tahitian\n"
     ]
    }
   ],
   "source": [
    "from lingpy import * \n",
    "\n",
    "# import data\n",
    "wl=Wordlist('../data/S08-computed.tsv')\n",
    "\n",
    "# NJ= neighbor\n",
    "mytree=Tree(wl.get_tree(tree_calc='neighbor',force=True))\n",
    "print('Neigjbor-joining tree')\n",
    "print(mytree.asciiArt())\n",
    "print('UPGMA tree')\n",
    "# UPGMA= upgma\n",
    "mytreeupgma=Tree(wl.get_tree(tree_calc='upgma',force=True))\n",
    "print(mytreeupgma.asciiArt())"
   ]
  },
  {
   "cell_type": "markdown",
   "metadata": {},
   "source": [
    "#### LingPy can output the distance matrix and tree files from wordlist, too."
   ]
  },
  {
   "cell_type": "code",
   "execution_count": 2,
   "metadata": {},
   "outputs": [
    {
     "name": "stderr",
     "output_type": "stream",
     "text": [
      "2018-07-09 10:07:28,888 [INFO] Data has been written to file <../data/S14-distanceoutput.dst>.\n",
      "2018-07-09 10:07:28,890 [INFO] Data has been written to file <../data/S14-njtree.tre>.\n",
      "2018-07-09 10:07:28,891 [INFO] Data has been written to file <../data/S14-upgmatree.tre>.\n"
     ]
    }
   ],
   "source": [
    "# distance matrix \n",
    "wl.output('dst', filename='../data/S14-distanceoutput',taxa='DOCULECT', ref='COGID',prettify=False)\n",
    "\n",
    "# NJ= neighbor\n",
    "wl.output('tre',filename='../data/S14-njtree',taxa='DOCULECT',ref='COGID', tree_calc='neighbor')\n",
    "\n",
    "# UPGMA= upgma\n",
    "wl.output('tre',filename='../data/S14-upgmatree',taxa='DOCULECT', ref='COGID', tree_calc='upgma')"
   ]
  },
  {
   "cell_type": "markdown",
   "metadata": {},
   "source": [
    "#### LingPy can output nexus file for further Bayesian phylogenetic analysis."
   ]
  },
  {
   "cell_type": "code",
   "execution_count": 3,
   "metadata": {},
   "outputs": [
    {
     "name": "stderr",
     "output_type": "stream",
     "text": [
      "2018-07-09 10:07:28,926 [INFO] Data has been written to file <../data/S14-pap.paps.nex>.\n"
     ]
    }
   ],
   "source": [
    "wl.output('paps.nex',filename='../data/S14-pap', taxa='DOCULECT', ref='COGID')\n"
   ]
  },
  {
   "cell_type": "code",
   "execution_count": null,
   "metadata": {},
   "outputs": [],
   "source": []
  }
 ],
 "metadata": {
  "kernelspec": {
   "display_name": "Python 3",
   "language": "python",
   "name": "python3"
  },
  "language_info": {
   "codemirror_mode": {
    "name": "ipython",
    "version": 3
   },
   "file_extension": ".py",
   "mimetype": "text/x-python",
   "name": "python",
   "nbconvert_exporter": "python",
   "pygments_lexer": "ipython3",
   "version": "3.5.2"
  }
 },
 "nbformat": 4,
 "nbformat_minor": 2
}
