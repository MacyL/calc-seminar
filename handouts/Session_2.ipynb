{
 "cells": [
  {
   "cell_type": "markdown",
   "metadata": {},
   "source": [
    "# Session 2: Getting Started (Tiago Tresoldi)"
   ]
  },
  {
   "cell_type": "markdown",
   "metadata": {},
   "source": [
    "## Overview on Software \n",
    "\n",
    "For the seminar, we will need a range of different software tools. Most tools are written in the Python programming language ([http://python.org](http://python.org)) of which we use the most recent version (3.5 or 3.6, depending on your system). But our tools are not limited to Python alone. We also make heavily use of the classical *terminal*, the interface which allows us to quickly communicate with our computer by typing short commands. Giving a full-fledged introduction into terminal computing (also called *bash scripting*, as the *bash*, the *born again shell* is the most common terminal application on UNIX machines) would go far beyond the scope of the seminar. So we will rather introduce commands and usually not explain them, but rely on our participants to do some search engine research in order to find answers at those questions you are interested in. \n",
    "\n",
    "In order to distinguish the use of the *bash* from the usage of *python*, we use the following annotation practices: (1) a command in the *bash* is preceded by a dollar sign which mimicks the terminal prompt character where you start inserting commands:\n",
    "\n",
    "```\n",
    "$ command_in_shell\n",
    "```\n",
    "\n",
    "A command in *python* which is usually launched from an interactive Python session will be preceded by ```>>>``` instead:\n",
    "\n",
    "```python\n",
    ">>> command_in_python\n",
    "```\n",
    "\n",
    "If we write code in text files, we will write it as such, but there will be syntax highlighting (you will learn what that means) indicating with which language we are working.\n",
    "\n",
    "To correctly check these files in an interactive way (as all our tutorials are produced in an interactive software, so you can open them and run the code on your computer conveniently yourself), we make use of Jupyter notebooks. In order to use them, you will need to install Jupyter and Ipython, two very convenient tools that greatly facililtate Python programming, especially in interactive sessions.\n",
    "\n",
    "Below we will give a first list of software that will be needed for the seminar, specifically introducing three different ways to install software:\n",
    "\n",
    "1. via *pip*, the Python package manager which allows you to quickly install some software on your computer,\n",
    "2. via *git* and specific Python commands for installation in development mode\n",
    "3. via the specific software instructions that you find when downloading software and reading a manual\n",
    "\n",
    "We expect that course participants have the tenacy to read online manuals and installation instructions on their own, without turning to the tutors of the seminar each time they encounter small hurdles. We offer, however, to ask general questions in the plenum via our GitHub repository at https://github.com/digling/calc-seminar, in form of GitHub issues. We strongly recommend this form of communication, since it helps us to collect questions and answer them for all participants (rather than just answering them in one single email for one person only). \n",
    "\n",
    "In the following, we will give a short overview on how we recommend that participants install the software on a Mac, on a Linux machine, and on Windows.\n",
    "\n",
    "Our list of software is not exhaustive for the time being, but will be potentially expanded during the seminar. \n",
    "\n"
   ]
  },
  {
   "cell_type": "markdown",
   "metadata": {},
   "source": [
    "## General Instructions on Tools and Software Needed\n",
    "\n",
    "### Text Editor\n",
    "\n",
    "We will need a good text editor to write scripts. A text editor is not a program like Microsoft Word, as word edits text for the purpose of publication. In order to write scripts in programming languages and to store data in regular formats, specific text editors are required. For Linux, we recommend common (advanced) editors like VIM (http://vim.org), Emacs (http://emacs.org), or GEDIT (usually shipped along with Linux systems). For MacOS, the same text editors can be installed (we recommend to install via the *brew* installation suite). An alternative is [notepad++](https://notepad-plus-plus.org/), a decent-enough text editor which also runs on Windows.\n",
    "\n",
    "### Spreadsheet Program\n",
    "\n",
    "In order to view spreadsheet files conveniently, participants will need a spreadsheet program to run check our tabular data formats we use for our programs. We recommend LibreOffice or the spreadsheet software of GoogleDrive. We disrecommend Excel, and although there are workarounds allowing you to use it still, we will give our instructions in a form that assumes that you have LibreOffice installed."
   ]
  },
  {
   "cell_type": "markdown",
   "metadata": {},
   "source": [
    "## Installation Instructions (Mac OS)\n",
    "\n"
   ]
  },
  {
   "cell_type": "markdown",
   "metadata": {},
   "source": [
    "## Installation Instructions (Linux, generic)\n",
    "\n"
   ]
  },
  {
   "cell_type": "markdown",
   "metadata": {},
   "source": [
    "## Installation Instructions (Windows)\n",
    "\n",
    "* Install Cygwin using the default options; besides the default packages, you should also install:\n",
    "  - gcc-core\n",
    "  - git\n",
    "  - python3\n",
    "  - python3-devel\n",
    "  - wget\n",
    "\n",
    "* Install `pip`, for Python packages, with the following commands:\n",
    "  - wget https://bootstrap.pypa.io/get-pip.py\n",
    "  - python3 get-pip.py\n",
    "\n",
    "* Make sure you are on your home directory:\n",
    "  - cd ~\n",
    "\n",
    "* Clone the CLDF repository\n",
    "  - git clone https://github.com/cldf/cldf.git\n",
    "\n",
    "* Install and configure `lingpy`\n",
    "  - pip3 install lingpy\n",
    "  - python3 -c \"import lingpy\"\n",
    "\n",
    "* Install Concepticon:\n",
    "  - git clone https://github.com/clld/concepticon-data.git\n",
    "  - pip3 install -e concepticon-data/\n",
    "\n",
    "* Install Glottolog:\n",
    "  - git clone https://github.com/clld/glottolog.git\n",
    "  - pip3 install -e glottolog/\n",
    "\n",
    "* Install CLTS:\n",
    "  - git clone https://github.com/clld/clts.git\n",
    "  - pip3 install -e clts/\n",
    "\n",
    "* Install `csvkit` (useful for manipulating tabular data)\n",
    "  - pip3 install csvkit\n",
    "\n",
    "You're ready to go!\n",
    "\n"
   ]
  },
  {
   "cell_type": "markdown",
   "metadata": {},
   "source": []
  },
  {
   "cell_type": "markdown",
   "metadata": {},
   "source": []
  }
 ],
 "metadata": {
  "kernelspec": {
   "display_name": "Python 3",
   "language": "python",
   "name": "python3"
  },
  "language_info": {
   "codemirror_mode": {
    "name": "ipython",
    "version": 3
   },
   "file_extension": ".py",
   "mimetype": "text/x-python",
   "name": "python",
   "nbconvert_exporter": "python",
   "pygments_lexer": "ipython3",
   "version": "3.5.2"
  }
 },
 "nbformat": 4,
 "nbformat_minor": 2
}
